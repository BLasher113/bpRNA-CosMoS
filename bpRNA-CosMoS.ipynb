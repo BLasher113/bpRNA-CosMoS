{
 "cells": [
  {
   "cell_type": "markdown",
   "id": "a3380a9a",
   "metadata": {},
   "source": [
    "# <span style='color:teal'> bpRNA-CosMoS:  </span>"
   ]
  },
  {
   "cell_type": "markdown",
   "id": "5a3840a9",
   "metadata": {},
   "source": [
    "#### 1) bpRNA_CosMoS.py"
   ]
  },
  {
   "cell_type": "markdown",
   "id": "5adb423f",
   "metadata": {},
   "source": [
    "bpRNA_CosMoS.py is the main script that is run, it takes one required input and has multiple flag options and one output. "
   ]
  },
  {
   "cell_type": "markdown",
   "id": "5d952d22",
   "metadata": {},
   "source": [
    "input 1) with the flag -f, is a list of file paths for either \"st\" format files or \"dbn\" format files. View the example input file \"test_RNA_paths.txt\".  "
   ]
  },
  {
   "cell_type": "markdown",
   "id": "054627ca",
   "metadata": {},
   "source": [
    "Other flag options include -a, the option to apply fuzzy bpRNA-CosMoS, -c to specify the number of cores used in multiprocessing, and -o, to specify the basename of the output file. The output consists of a file where each line contains name of each RNA being compared and the coresponding similarity score."
   ]
  },
  {
   "cell_type": "markdown",
   "id": "0a279462",
   "metadata": {},
   "source": [
    "The bpRNA_CosMoS_module.py script, is a module that performs the scoring task. This module includes the fuzzy option of adding pseudo counts, and the length weighted scoring method. "
   ]
  },
  {
   "cell_type": "markdown",
   "id": "03c9b1c7",
   "metadata": {},
   "source": [
    "### <span style='color:black'> Running a simple bpRNA-CosMoS example:  </span> "
   ]
  },
  {
   "cell_type": "code",
   "execution_count": null,
   "id": "4757dddd",
   "metadata": {},
   "outputs": [],
   "source": [
    "import os\n",
    "os.system(\"python3 scripts/bpRNA_CosMoS.py -f test_RNA_paths.txt -a True\")"
   ]
  },
  {
   "cell_type": "markdown",
   "id": "71e57ae6",
   "metadata": {},
   "source": [
    "## Output file results: screenshot of test_bpRNA_CosMoS_scores.txt"
   ]
  },
  {
   "cell_type": "markdown",
   "id": "2856b033",
   "metadata": {},
   "source": [
    "![](test_output.png)"
   ]
  }
 ],
 "metadata": {
  "kernelspec": {
   "display_name": "Python 3 (ipykernel)",
   "language": "python",
   "name": "python3"
  },
  "language_info": {
   "codemirror_mode": {
    "name": "ipython",
    "version": 3
   },
   "file_extension": ".py",
   "mimetype": "text/x-python",
   "name": "python",
   "nbconvert_exporter": "python",
   "pygments_lexer": "ipython3",
   "version": "3.8.9"
  }
 },
 "nbformat": 4,
 "nbformat_minor": 5
}
